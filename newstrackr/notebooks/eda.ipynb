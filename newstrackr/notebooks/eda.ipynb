import pandas as pd
import numpy as np
import matplotlib.pyplot as plt
import seaborn as sns
from wordcloud import WordCloud
import plotly.express as px
import plotly.graph_objects as go

# Set style
plt.style.use('seaborn-v0_8')
sns.set_palette("husl")

# Load the generated data
df = pd.read_csv('../data/twitter_metrics.csv')
print(f"Dataset shape: {df.shape}")
print("\nDataset info:")
print(df.info())# Exploratory Data Analysis (EDA) for News Impact Ranking

This notebook performs exploratory data analysis on news articles and engagement metrics to understand patterns and relationships that inform our impact ranking model.